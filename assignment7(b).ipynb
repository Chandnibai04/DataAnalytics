{
 "cells": [
  {
   "cell_type": "code",
   "execution_count": 1,
   "id": "652881ac-03f3-4a16-a92b-95750ea5cc48",
   "metadata": {},
   "outputs": [
    {
     "name": "stdout",
     "output_type": "stream",
     "text": [
      "   experience_coding  python_user  r_user  sql_user     most_used  \\\n",
      "0                6.1         True   False      True  Scikit-learn   \n",
      "1               12.3         True    True      True  Scikit-learn   \n",
      "2                2.2         True   False     False           NaN   \n",
      "3                2.7        False   False      True           NaN   \n",
      "4                1.2         True   False     False  Scikit-learn   \n",
      "\n",
      "   compensation  \n",
      "0        124267  \n",
      "1        236889  \n",
      "2         74321  \n",
      "3         62593  \n",
      "4         36288  \n",
      "['experience_coding', 'python_user', 'r_user', 'sql_user', 'most_used', 'compensation']\n",
      "   experience_coding  python_user  r_user sql_user     most_used compensation\n",
      "0                6.1        False   False     True  Scikit-learn       124267\n",
      "1               12.3        False   False     True  Scikit-learn       236889\n",
      "2                2.2        False   False    False           nan        74321\n",
      "3                2.7        False   False     True           nan        62593\n",
      "4                1.2        False   False    False  Scikit-learn        36288\n"
     ]
    },
    {
     "name": "stderr",
     "output_type": "stream",
     "text": [
      "C:\\Users\\PMLS\\AppData\\Local\\Temp\\ipykernel_17152\\3494428437.py:32: FutureWarning: Setting an item of incompatible dtype is deprecated and will raise in a future error of pandas. Value '0         True\n",
      "1         True\n",
      "2        False\n",
      "3         True\n",
      "4        False\n",
      "         ...  \n",
      "25968     True\n",
      "25969    False\n",
      "25970    False\n",
      "25971     True\n",
      "25972    False\n",
      "Name: sql_user, Length: 25973, dtype: object' has dtype incompatible with bool, please explicitly cast to a compatible dtype first.\n",
      "  df.iloc[:, 3] = df.iloc[:, 3].apply(convert_to_string)\n",
      "C:\\Users\\PMLS\\AppData\\Local\\Temp\\ipykernel_17152\\3494428437.py:34: FutureWarning: Setting an item of incompatible dtype is deprecated and will raise in a future error of pandas. Value '0        124267\n",
      "1        236889\n",
      "2         74321\n",
      "3         62593\n",
      "4         36288\n",
      "          ...  \n",
      "25968     15800\n",
      "25969     62456\n",
      "25970       923\n",
      "25971     60609\n",
      "25972       493\n",
      "Name: compensation, Length: 25973, dtype: object' has dtype incompatible with int64, please explicitly cast to a compatible dtype first.\n",
      "  df.iloc[:, 5] = df.iloc[:, 5].apply(convert_to_string)\n"
     ]
    }
   ],
   "source": [
    "import pandas as pd\n",
    "\n",
    "\n",
    "df = pd.read_csv(\"compensation data.csv\")\n",
    "\n",
    "\n",
    "print(df.head())\n",
    "\n",
    "\n",
    "headers = df.columns.tolist()\n",
    "print(headers)\n",
    "\n",
    "# Function to convert values to float\n",
    "def convert_to_float(value):\n",
    "    try:\n",
    "        return float(value)\n",
    "    except ValueError:\n",
    "        return None\n",
    "\n",
    "df.iloc[:, 0] = df.iloc[:, 0].apply(convert_to_float)  \n",
    "\n",
    "def convert_to_boolean(value):\n",
    "    return value == \"TRUE\"\n",
    "\n",
    "df.iloc[:, 1] = df.iloc[:, 1].apply(convert_to_boolean)  # Convert to boolean\n",
    "df.iloc[:, 2] = df.iloc[:, 2].apply(convert_to_boolean)  # Convert to boolean\n",
    "\n",
    "# Function to ensure values are strings\n",
    "def convert_to_string(value):\n",
    "    return str(value)\n",
    "\n",
    "df.iloc[:, 3] = df.iloc[:, 3].apply(convert_to_string)\n",
    "df.iloc[:, 4] = df.iloc[:, 4].apply(convert_to_string)\n",
    "df.iloc[:, 5] = df.iloc[:, 5].apply(convert_to_string)\n",
    "\n",
    "\n",
    "df.to_csv(\"updated_compensation_data.csv\", index=False)\n",
    "\n",
    "\n",
    "print(df.head())\n"
   ]
  },
  {
   "cell_type": "code",
   "execution_count": 2,
   "id": "15163c63-c662-4fd7-a2dc-f9050423f962",
   "metadata": {},
   "outputs": [
    {
     "name": "stdout",
     "output_type": "stream",
     "text": [
      "   experience_coding  python_user  r_user sql_user     most_used compensation\n",
      "0                6.1        False   False     True  Scikit-learn       124267\n",
      "1               12.3        False   False     True  Scikit-learn       236889\n",
      "2                2.2        False   False    False           nan        74321\n",
      "3                2.7        False   False     True           nan        62593\n",
      "4                1.2        False   False    False  Scikit-learn        36288\n"
     ]
    }
   ],
   "source": [
    "df.to_csv(\"updated_compensation_data.txt\", index=False)\n",
    "\n",
    "\n",
    "print(df.head())"
   ]
  },
  {
   "cell_type": "code",
   "execution_count": null,
   "id": "780f820d-fd8c-49bd-9e43-4fbe80dd874d",
   "metadata": {},
   "outputs": [],
   "source": []
  }
 ],
 "metadata": {
  "kernelspec": {
   "display_name": "Python 3 (ipykernel)",
   "language": "python",
   "name": "python3"
  },
  "language_info": {
   "codemirror_mode": {
    "name": "ipython",
    "version": 3
   },
   "file_extension": ".py",
   "mimetype": "text/x-python",
   "name": "python",
   "nbconvert_exporter": "python",
   "pygments_lexer": "ipython3",
   "version": "3.12.7"
  }
 },
 "nbformat": 4,
 "nbformat_minor": 5
}
