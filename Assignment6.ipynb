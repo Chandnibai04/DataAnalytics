{
 "cells": [
  {
   "cell_type": "code",
   "execution_count": null,
   "id": "115891ae-a804-4301-93fb-5b9845abf623",
   "metadata": {},
   "outputs": [],
   "source": [
    "# Question 1:\n",
    "# In a transportation system, we have two classes:\n",
    "#  ElectricVehicle: A class that has a method charge() to charge the vehicle.\n",
    "#  GasolineVehicle: A class that has a method fuel_up() to refuel the vehicle.\n",
    "# Create a class HybridCar that inherits from both ElectricVehicle and GasolineVehicle. The HybridCar\n",
    "# class should have a method drive() that prints a message showing the car is being driven. Instantiate\n",
    "# an object of class HybridCar and demonstrate the usage of charge(), fuel_up(), and drive().\n",
    "# Expected Output:\n",
    "#  Charging the electric vehicle.\n",
    "#  Filling up the gasoline tank.\n",
    "#  Driving the hybrid car."
   ]
  },
  {
   "cell_type": "code",
   "execution_count": 1,
   "id": "1e1c0669-d92d-4334-b44c-7a5ec04bf4d8",
   "metadata": {},
   "outputs": [
    {
     "name": "stdout",
     "output_type": "stream",
     "text": [
      "Charging the electric vehicle.\n",
      "Filling up the gasoline tank.\n",
      "Driving the hybrid car.\n"
     ]
    }
   ],
   "source": [
    "class ElectricVehicle:\n",
    "    def charge(self):\n",
    "        print(\"Charging the electric vehicle.\")\n",
    "\n",
    "class GasolineVehicle:\n",
    "    def fuel_up(self):\n",
    "        print(\"Filling up the gasoline tank.\")\n",
    "\n",
    "class HybridCar(ElectricVehicle, GasolineVehicle):\n",
    "    def drive(self):\n",
    "        print(\"Driving the hybrid car.\")\n",
    "\n",
    "hybrid_car = HybridCar()\n",
    "hybrid_car.charge()\n",
    "hybrid_car.fuel_up()\n",
    "hybrid_car.drive()"
   ]
  },
  {
   "cell_type": "code",
   "execution_count": null,
   "id": "3941cd66-f0f9-407d-8807-b2309e4d1f29",
   "metadata": {},
   "outputs": [],
   "source": []
  },
  {
   "cell_type": "code",
   "execution_count": null,
   "id": "f1ed907e-1200-4e62-b690-0afd210c4f0c",
   "metadata": {},
   "outputs": [],
   "source": [
    "# Question 2:\n",
    "# Create a class Animal with a method make_sound(), which prints &quot;Animal makes a sound&quot;. Then,\n",
    "# create two subclasses:\n",
    "#  Lion: Override the make_sound() method to print &quot;Roar&quot;.\n",
    "#  Cat: Override the make_sound() method to print &quot;Meow&quot;.\n",
    "# Demonstrate polymorphism by calling make_sound() on instances of Lion and Cat."
   ]
  },
  {
   "cell_type": "code",
   "execution_count": 2,
   "id": "80a1a397-b91e-4f50-bd9e-cf2f1153c1e7",
   "metadata": {},
   "outputs": [
    {
     "name": "stdout",
     "output_type": "stream",
     "text": [
      "Roar\n",
      "Meow\n"
     ]
    }
   ],
   "source": [
    "class Animal:\n",
    "    def make_sound(self):\n",
    "        print(\"Animal makes a sound\")\n",
    "\n",
    "class Lion(Animal):\n",
    "    def make_sound(self):\n",
    "        print(\"Roar\")\n",
    "\n",
    "class Cat(Animal):\n",
    "    def make_sound(self):\n",
    "        print(\"Meow\")\n",
    "\n",
    "lion = Lion()\n",
    "cat = Cat()\n",
    "lion.make_sound()\n",
    "cat.make_sound()\n"
   ]
  },
  {
   "cell_type": "code",
   "execution_count": null,
   "id": "448a7008-cef4-4411-aec6-11a6c98eedf6",
   "metadata": {},
   "outputs": [],
   "source": []
  },
  {
   "cell_type": "code",
   "execution_count": null,
   "id": "338e62eb-4820-409b-a41c-09c23c62ceef",
   "metadata": {},
   "outputs": [],
   "source": [
    "# Question 3:\n",
    "# Create an abstract class SmartHomeDevice with two abstract methods:\n",
    "#  turn_on() (to turn the device on)\n",
    "#  turn_off() (to turn the device off)\n",
    "# Then, create a Light class that inherits from SmartHomeDevice. Implement the methods turn_on()\n",
    "# and turn_off() for a light device. The turn_on() method should print &quot;Light is ON&quot;, and the turn_off()\n",
    "# method should print &quot;Light is OFF&quot;.\n",
    "# Write a Python program to control the light device in a smart home.\n",
    "# Expected Output:\n",
    "#  Turning on the light...\n",
    "#  Light is ON\n",
    "#  Turning off the light...\n",
    "#  Light is OFF"
   ]
  },
  {
   "cell_type": "code",
   "execution_count": 3,
   "id": "9761ceae-035d-4878-86c2-3d4bd1fc0c1b",
   "metadata": {},
   "outputs": [
    {
     "name": "stdout",
     "output_type": "stream",
     "text": [
      "Turning on the light...\n",
      "Light is ON\n",
      "Turning off the light...\n",
      "Light is OFF\n"
     ]
    }
   ],
   "source": [
    "from abc import ABC, abstractmethod\n",
    "\n",
    "class SmartHomeDevice(ABC):\n",
    "    @abstractmethod\n",
    "    def turn_on(self):\n",
    "        pass\n",
    "\n",
    "    @abstractmethod\n",
    "    def turn_off(self):\n",
    "        pass\n",
    "\n",
    "class Light(SmartHomeDevice):\n",
    "    def turn_on(self):\n",
    "        print(\"Light is ON\")\n",
    "\n",
    "    def turn_off(self):\n",
    "        print(\"Light is OFF\")\n",
    "\n",
    "light = Light()\n",
    "print(\"Turning on the light...\")\n",
    "light.turn_on()\n",
    "print(\"Turning off the light...\")\n",
    "light.turn_off()"
   ]
  },
  {
   "cell_type": "code",
   "execution_count": null,
   "id": "7f79619c-131e-449f-b452-286e27bcfc7a",
   "metadata": {},
   "outputs": [],
   "source": []
  },
  {
   "cell_type": "code",
   "execution_count": null,
   "id": "d34342da-6349-4626-b390-34c1f660e52f",
   "metadata": {},
   "outputs": [],
   "source": [
    "# Question 4:\n",
    "# Create a class Greeting with a method greet() that can handle different numbers of arguments.\n",
    "#  If no argument is passed, it should print &quot;Hello!&quot;.\n",
    "#  If one argument (a name) is passed, it should print &quot;Hello, !&quot;.\n",
    "#  If two arguments (a name and a greeting) are passed, it should print the greeting with the\n",
    "# name (e.g., &quot;Good morning, !&quot;).\n",
    "# Simulate method overloading using default arguments or variable-length arguments, and\n",
    "# demonstrate the polymorphic behavior by calling greet() with different numbers of arguments.\n",
    "# Expected Output:\n",
    "#  Hello!\n",
    "#  Hello, John!\n",
    "#  Good morning, John!"
   ]
  },
  {
   "cell_type": "code",
   "execution_count": 4,
   "id": "62224510-7e9f-4a27-a26f-5e439c881034",
   "metadata": {},
   "outputs": [
    {
     "name": "stdout",
     "output_type": "stream",
     "text": [
      "Hello!\n",
      "Hello, John!\n",
      "Good morning, John!\n"
     ]
    }
   ],
   "source": [
    "class Greeting:\n",
    "    def greet(self, *args):\n",
    "        if len(args) == 0:\n",
    "            print(\"Hello!\")\n",
    "        elif len(args) == 1:\n",
    "            print(f\"Hello, {args[0]}!\")\n",
    "        elif len(args) == 2:\n",
    "            print(f\"{args[1]}, {args[0]}!\")\n",
    "\n",
    "greeting = Greeting()\n",
    "greeting.greet()\n",
    "greeting.greet(\"John\")\n",
    "greeting.greet(\"John\", \"Good morning\")"
   ]
  },
  {
   "cell_type": "code",
   "execution_count": null,
   "id": "c1dc4862-c76a-40f2-8a93-8fb7f20b01e7",
   "metadata": {},
   "outputs": [],
   "source": []
  },
  {
   "cell_type": "code",
   "execution_count": null,
   "id": "1df9941b-3ed1-47fb-adaf-8cd38588141e",
   "metadata": {},
   "outputs": [],
   "source": [
    "# Question 5:\n",
    "# Create a class CarRental to manage the rental of cars.\n",
    "#  The class should have private attributes for the car&#39;s name, price per day, and the number of\n",
    "# rental days.\n",
    "#  Create a method to calculate the total rental cost and a method to set the rental days.\n",
    "#  Use getter and setter methods for modifying and accessing the car&#39;s information.\n",
    "# Demonstrate encapsulation by creating an object of CarRental and calculating the total rental cost.\n",
    "# Expected Output:\n",
    "#  Car Name: Toyota Camry\n",
    "#  Price Per Day: $50\n",
    "#  Rental Days: 5\n",
    "#  Total Rental Cost: $250"
   ]
  },
  {
   "cell_type": "code",
   "execution_count": 5,
   "id": "c18c9303-38f1-463e-a7b3-2623d3df4652",
   "metadata": {},
   "outputs": [
    {
     "name": "stdout",
     "output_type": "stream",
     "text": [
      "Car Name: Toyota Camry\n",
      "Price Per Day: $50\n",
      "Rental Days: 5\n",
      "Total Rental Cost: $250\n"
     ]
    }
   ],
   "source": [
    "\n",
    "class CarRental:\n",
    "    def __init__(self, name, price_per_day):\n",
    "        self.__name = name\n",
    "        self.__price_per_day = price_per_day\n",
    "        self.__rental_days = 0\n",
    "\n",
    "    def set_rental_days(self, days):\n",
    "        self.__rental_days = days\n",
    "\n",
    "    def calculate_total_cost(self):\n",
    "        return self.__price_per_day * self.__rental_days\n",
    "\n",
    "    def get_name(self):\n",
    "        return self.__name\n",
    "\n",
    "    def get_price_per_day(self):\n",
    "        return self.__price_per_day\n",
    "\n",
    "    def get_rental_days(self):\n",
    "        return self.__rental_days\n",
    "\n",
    "    def set_name(self, name):\n",
    "        self.__name = name\n",
    "\n",
    "    def set_price_per_day(self, price):\n",
    "        self.__price_per_day = price\n",
    "\n",
    "car_rental = CarRental(\"Toyota Camry\", 50)\n",
    "car_rental.set_rental_days(5)\n",
    "print(f\"Car Name: {car_rental.get_name()}\")\n",
    "print(f\"Price Per Day: ${car_rental.get_price_per_day()}\")\n",
    "print(f\"Rental Days: {car_rental.get_rental_days()}\")\n",
    "print(f\"Total Rental Cost: ${car_rental.calculate_total_cost()}\")"
   ]
  },
  {
   "cell_type": "code",
   "execution_count": null,
   "id": "a8711efa-731b-41cd-9488-2016eea76994",
   "metadata": {},
   "outputs": [],
   "source": []
  }
 ],
 "metadata": {
  "kernelspec": {
   "display_name": "Python 3 (ipykernel)",
   "language": "python",
   "name": "python3"
  },
  "language_info": {
   "codemirror_mode": {
    "name": "ipython",
    "version": 3
   },
   "file_extension": ".py",
   "mimetype": "text/x-python",
   "name": "python",
   "nbconvert_exporter": "python",
   "pygments_lexer": "ipython3",
   "version": "3.12.7"
  }
 },
 "nbformat": 4,
 "nbformat_minor": 5
}
