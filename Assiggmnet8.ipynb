{
 "cells": [
  {
   "cell_type": "code",
   "execution_count": 1,
   "id": "e69d2f10-e209-4ec6-8daf-d012fdadb010",
   "metadata": {},
   "outputs": [],
   "source": [
    "import pandas as pd\n",
    "import numpy as npt\n",
    "import seaborn as sns   \n",
    "import matplotlib.pyplot as plt"
   ]
  },
  {
   "cell_type": "code",
   "execution_count": 2,
   "id": "95063c61-d174-4441-b543-6a3b0f968d1c",
   "metadata": {},
   "outputs": [
    {
     "data": {
      "text/html": [
       "<div>\n",
       "<style scoped>\n",
       "    .dataframe tbody tr th:only-of-type {\n",
       "        vertical-align: middle;\n",
       "    }\n",
       "\n",
       "    .dataframe tbody tr th {\n",
       "        vertical-align: top;\n",
       "    }\n",
       "\n",
       "    .dataframe thead th {\n",
       "        text-align: right;\n",
       "    }\n",
       "</style>\n",
       "<table border=\"1\" class=\"dataframe\">\n",
       "  <thead>\n",
       "    <tr style=\"text-align: right;\">\n",
       "      <th></th>\n",
       "      <th>invoice_no</th>\n",
       "      <th>invoice_date</th>\n",
       "      <th>customer_id</th>\n",
       "      <th>gender</th>\n",
       "      <th>age</th>\n",
       "      <th>category</th>\n",
       "      <th>quantity</th>\n",
       "      <th>selling_price_per_unit</th>\n",
       "      <th>cost_price_per_unit</th>\n",
       "      <th>payment_method</th>\n",
       "      <th>region</th>\n",
       "      <th>state</th>\n",
       "      <th>shopping_mall</th>\n",
       "    </tr>\n",
       "  </thead>\n",
       "  <tbody>\n",
       "    <tr>\n",
       "      <th>0</th>\n",
       "      <td>I138884</td>\n",
       "      <td>10/30/2016 9:58</td>\n",
       "      <td>C241288</td>\n",
       "      <td>Female</td>\n",
       "      <td>28</td>\n",
       "      <td>Clothing</td>\n",
       "      <td>5</td>\n",
       "      <td>1500.40</td>\n",
       "      <td>1425.380</td>\n",
       "      <td>Credit Card</td>\n",
       "      <td>South</td>\n",
       "      <td>Kentucky</td>\n",
       "      <td>Kanyon</td>\n",
       "    </tr>\n",
       "    <tr>\n",
       "      <th>1</th>\n",
       "      <td>I317333</td>\n",
       "      <td>10/30/2016 9:58</td>\n",
       "      <td>C111565</td>\n",
       "      <td>Male</td>\n",
       "      <td>21</td>\n",
       "      <td>Shoes</td>\n",
       "      <td>3</td>\n",
       "      <td>1800.51</td>\n",
       "      <td>1620.459</td>\n",
       "      <td>Debit Card</td>\n",
       "      <td>South</td>\n",
       "      <td>Kentucky</td>\n",
       "      <td>Viaport Outlet</td>\n",
       "    </tr>\n",
       "    <tr>\n",
       "      <th>2</th>\n",
       "      <td>I127801</td>\n",
       "      <td>10/30/2016 9:58</td>\n",
       "      <td>C266599</td>\n",
       "      <td>Male</td>\n",
       "      <td>20</td>\n",
       "      <td>Clothing</td>\n",
       "      <td>1</td>\n",
       "      <td>300.08</td>\n",
       "      <td>295.060</td>\n",
       "      <td>Cash</td>\n",
       "      <td>West</td>\n",
       "      <td>California</td>\n",
       "      <td>Metrocity</td>\n",
       "    </tr>\n",
       "    <tr>\n",
       "      <th>3</th>\n",
       "      <td>I173702</td>\n",
       "      <td>10/30/2016 9:58</td>\n",
       "      <td>C988172</td>\n",
       "      <td>Female</td>\n",
       "      <td>66</td>\n",
       "      <td>Shoes</td>\n",
       "      <td>5</td>\n",
       "      <td>3000.85</td>\n",
       "      <td>2900.765</td>\n",
       "      <td>Credit Card</td>\n",
       "      <td>South</td>\n",
       "      <td>Florida</td>\n",
       "      <td>Metropol AVM</td>\n",
       "    </tr>\n",
       "    <tr>\n",
       "      <th>4</th>\n",
       "      <td>I337046</td>\n",
       "      <td>10/30/2016 9:59</td>\n",
       "      <td>C189076</td>\n",
       "      <td>Female</td>\n",
       "      <td>53</td>\n",
       "      <td>Books</td>\n",
       "      <td>4</td>\n",
       "      <td>60.60</td>\n",
       "      <td>45.450</td>\n",
       "      <td>Cash</td>\n",
       "      <td>South</td>\n",
       "      <td>Florida</td>\n",
       "      <td>Kanyon</td>\n",
       "    </tr>\n",
       "  </tbody>\n",
       "</table>\n",
       "</div>"
      ],
      "text/plain": [
       "  invoice_no     invoice_date customer_id  gender  age  category  quantity  \\\n",
       "0    I138884  10/30/2016 9:58     C241288  Female   28  Clothing         5   \n",
       "1    I317333  10/30/2016 9:58     C111565    Male   21     Shoes         3   \n",
       "2    I127801  10/30/2016 9:58     C266599    Male   20  Clothing         1   \n",
       "3    I173702  10/30/2016 9:58     C988172  Female   66     Shoes         5   \n",
       "4    I337046  10/30/2016 9:59     C189076  Female   53     Books         4   \n",
       "\n",
       "   selling_price_per_unit  cost_price_per_unit payment_method region  \\\n",
       "0                 1500.40             1425.380    Credit Card  South   \n",
       "1                 1800.51             1620.459     Debit Card  South   \n",
       "2                  300.08              295.060           Cash   West   \n",
       "3                 3000.85             2900.765    Credit Card  South   \n",
       "4                   60.60               45.450           Cash  South   \n",
       "\n",
       "        state   shopping_mall  \n",
       "0    Kentucky          Kanyon  \n",
       "1    Kentucky  Viaport Outlet  \n",
       "2  California       Metrocity  \n",
       "3     Florida    Metropol AVM  \n",
       "4     Florida          Kanyon  "
      ]
     },
     "execution_count": 2,
     "metadata": {},
     "output_type": "execute_result"
    }
   ],
   "source": [
    "df=pd.read_csv(\"Different_stores_dataset .csv\")\n",
    "df.head(5)"
   ]
  },
  {
   "cell_type": "markdown",
   "id": "6c3f6ccb-5835-491a-91f0-8ba50071478b",
   "metadata": {},
   "source": [
    "# Check missing values and duplicate records"
   ]
  },
  {
   "cell_type": "code",
   "execution_count": 8,
   "id": "914f9389-045e-4e19-99ca-2100891be427",
   "metadata": {},
   "outputs": [
    {
     "data": {
      "text/html": [
       "<div>\n",
       "<style scoped>\n",
       "    .dataframe tbody tr th:only-of-type {\n",
       "        vertical-align: middle;\n",
       "    }\n",
       "\n",
       "    .dataframe tbody tr th {\n",
       "        vertical-align: top;\n",
       "    }\n",
       "\n",
       "    .dataframe thead th {\n",
       "        text-align: right;\n",
       "    }\n",
       "</style>\n",
       "<table border=\"1\" class=\"dataframe\">\n",
       "  <thead>\n",
       "    <tr style=\"text-align: right;\">\n",
       "      <th></th>\n",
       "      <th>invoice_no</th>\n",
       "      <th>invoice_date</th>\n",
       "      <th>customer_id</th>\n",
       "      <th>gender</th>\n",
       "      <th>age</th>\n",
       "      <th>category</th>\n",
       "      <th>quantity</th>\n",
       "      <th>selling_price_per_unit</th>\n",
       "      <th>cost_price_per_unit</th>\n",
       "      <th>payment_method</th>\n",
       "      <th>region</th>\n",
       "      <th>state</th>\n",
       "      <th>shopping_mall</th>\n",
       "    </tr>\n",
       "  </thead>\n",
       "  <tbody>\n",
       "  </tbody>\n",
       "</table>\n",
       "</div>"
      ],
      "text/plain": [
       "Empty DataFrame\n",
       "Columns: [invoice_no, invoice_date, customer_id, gender, age, category, quantity, selling_price_per_unit, cost_price_per_unit, payment_method, region, state, shopping_mall]\n",
       "Index: []"
      ]
     },
     "execution_count": 8,
     "metadata": {},
     "output_type": "execute_result"
    }
   ],
   "source": [
    "duplicate_records = df[df.duplicated()]\n",
    "duplicate_records"
   ]
  },
  {
   "cell_type": "code",
   "execution_count": 10,
   "id": "ac9d80c5-04c1-4621-aac4-5b269abcb8cc",
   "metadata": {},
   "outputs": [
    {
     "data": {
      "text/plain": [
       "invoice_no                0\n",
       "invoice_date              0\n",
       "customer_id               0\n",
       "gender                    0\n",
       "age                       0\n",
       "category                  0\n",
       "quantity                  0\n",
       "selling_price_per_unit    0\n",
       "cost_price_per_unit       0\n",
       "payment_method            0\n",
       "region                    0\n",
       "state                     0\n",
       "shopping_mall             0\n",
       "dtype: int64"
      ]
     },
     "execution_count": 10,
     "metadata": {},
     "output_type": "execute_result"
    }
   ],
   "source": [
    "missing_values = df.isnull().sum()\n",
    "missing_values"
   ]
  },
  {
   "cell_type": "code",
   "execution_count": null,
   "id": "9d9ff671-937d-490f-855c-fc91de950763",
   "metadata": {},
   "outputs": [],
   "source": []
  },
  {
   "cell_type": "markdown",
   "id": "0b2470c6-4f09-446b-b8b3-5c3e0ae826c6",
   "metadata": {},
   "source": [
    "# Add column name 'Total Sales'"
   ]
  },
  {
   "cell_type": "code",
   "execution_count": 11,
   "id": "2d6c0818-ec1a-4621-bb0b-dff0764c5cbc",
   "metadata": {},
   "outputs": [
    {
     "name": "stdout",
     "output_type": "stream",
     "text": [
      "  invoice_no     invoice_date customer_id  gender  age  category  quantity  \\\n",
      "0    I138884  10/30/2016 9:58     C241288  Female   28  Clothing         5   \n",
      "1    I317333  10/30/2016 9:58     C111565    Male   21     Shoes         3   \n",
      "2    I127801  10/30/2016 9:58     C266599    Male   20  Clothing         1   \n",
      "3    I173702  10/30/2016 9:58     C988172  Female   66     Shoes         5   \n",
      "4    I337046  10/30/2016 9:59     C189076  Female   53     Books         4   \n",
      "\n",
      "   selling_price_per_unit  cost_price_per_unit payment_method region  \\\n",
      "0                 1500.40             1425.380    Credit Card  South   \n",
      "1                 1800.51             1620.459     Debit Card  South   \n",
      "2                  300.08              295.060           Cash   West   \n",
      "3                 3000.85             2900.765    Credit Card  South   \n",
      "4                   60.60               45.450           Cash  South   \n",
      "\n",
      "        state   shopping_mall  Total Sales  \n",
      "0    Kentucky          Kanyon      7502.00  \n",
      "1    Kentucky  Viaport Outlet      5401.53  \n",
      "2  California       Metrocity       300.08  \n",
      "3     Florida    Metropol AVM     15004.25  \n",
      "4     Florida          Kanyon       242.40  \n"
     ]
    }
   ],
   "source": [
    "df['Total Sales'] = df['quantity'] * df['selling_price_per_unit']\n",
    "print(df.head())"
   ]
  },
  {
   "cell_type": "code",
   "execution_count": null,
   "id": "371af69c-471e-4171-bd42-eda104ea566c",
   "metadata": {},
   "outputs": [],
   "source": []
  },
  {
   "cell_type": "markdown",
   "id": "93710f6e-444d-4d69-a07c-1bc3462d1dbb",
   "metadata": {},
   "source": [
    "# How many customers have age more than 60?"
   ]
  },
  {
   "cell_type": "code",
   "execution_count": 12,
   "id": "3359a35f-b9ad-433c-9dd1-0797561f8613",
   "metadata": {},
   "outputs": [
    {
     "name": "stdout",
     "output_type": "stream",
     "text": [
      "Number of customers with age greater than 60: 17169\n"
     ]
    }
   ],
   "source": [
    "customers_above_60 = df.query(\"age > 60\").shape[0]\n",
    "\n",
    "print(f\"Number of customers with age greater than 60: {customers_above_60}\")"
   ]
  },
  {
   "cell_type": "code",
   "execution_count": null,
   "id": "47d9083b-9050-44b1-87b3-78705f083a0c",
   "metadata": {},
   "outputs": [],
   "source": []
  },
  {
   "cell_type": "markdown",
   "id": "efceec22-9069-4fed-a308-9ed2561b598f",
   "metadata": {},
   "source": [
    "# How many unique customer_id entries are there? Do any customers make multiple purchases?"
   ]
  },
  {
   "cell_type": "code",
   "execution_count": 13,
   "id": "2e832559-7880-417c-a1f8-c185005a3264",
   "metadata": {},
   "outputs": [
    {
     "name": "stdout",
     "output_type": "stream",
     "text": [
      "Number of unique customers: 99457\n"
     ]
    }
   ],
   "source": [
    "# Count unique customer IDs\n",
    "unique_customers = df['customer_id'].nunique()\n",
    "print(f\"Number of unique customers: {unique_customers}\")"
   ]
  },
  {
   "cell_type": "code",
   "execution_count": 14,
   "id": "6fafff45-8c2a-4bfa-9109-62aa7006bfcf",
   "metadata": {},
   "outputs": [
    {
     "name": "stdout",
     "output_type": "stream",
     "text": [
      "Number of customers with multiple purchases: 0\n"
     ]
    }
   ],
   "source": [
    "multiple_purchases = df['customer_id'].value_counts()\n",
    "customers_with_multiple_purchases = (multiple_purchases > 1).sum()\n",
    "\n",
    "print(f\"Number of customers with multiple purchases: {customers_with_multiple_purchases}\")"
   ]
  },
  {
   "cell_type": "code",
   "execution_count": null,
   "id": "bfabcb82-03b2-4cd6-a23c-cebcf84680a7",
   "metadata": {},
   "outputs": [],
   "source": []
  },
  {
   "cell_type": "markdown",
   "id": "96379d50-f830-4c2e-9b73-137943afcdcf",
   "metadata": {},
   "source": [
    "# Are there more male or female customers, Show in Pie Chart"
   ]
  },
  {
   "cell_type": "code",
   "execution_count": 17,
   "id": "6ae94a1b-0a36-4091-b77b-7955110812c2",
   "metadata": {},
   "outputs": [],
   "source": [
    "gender_counts = df['gender'].value_counts()"
   ]
  },
  {
   "cell_type": "code",
   "execution_count": 18,
   "id": "1c597dd5-8c58-4810-b604-fee8dc800ac2",
   "metadata": {},
   "outputs": [
    {
     "data": {
      "image/png": "[encoded data removed]",
      "text/plain": [
       "<Figure size 640x480 with 1 Axes>"
      ]
     },
     "metadata": {},
     "output_type": "display_data"
    }
   ],
   "source": [
    "plt.pie(gender_counts, labels=gender_counts.index, autopct='%1.1f%%')\n",
    "plt.title(\"Male vs Female Customers\")\n",
    "plt.show()"
   ]
  },
  {
   "cell_type": "code",
   "execution_count": null,
   "id": "777b15fd-f225-4bba-b762-480fce5bb621",
   "metadata": {},
   "outputs": [],
   "source": []
  },
  {
   "cell_type": "markdown",
   "id": "b1b32163-411f-46e9-b159-db3020b20acc",
   "metadata": {},
   "source": [
    "# Which category is least popular among customers?"
   ]
  },
  {
   "cell_type": "code",
   "execution_count": 19,
   "id": "2666aeb5-073f-4aa9-9675-d2da40d8fe6f",
   "metadata": {},
   "outputs": [],
   "source": [
    "category_counts = df['category'].value_counts()"
   ]
  },
  {
   "cell_type": "code",
   "execution_count": 21,
   "id": "08b6b032-15fd-4b13-af53-3a254093bf36",
   "metadata": {},
   "outputs": [
    {
     "name": "stdout",
     "output_type": "stream",
     "text": [
      "Least popular category: Books with 4981 purchases.\n"
     ]
    }
   ],
   "source": [
    "least_popular_count = category_counts.min()\n",
    "least_popular_category = category_counts.idxmin()\n",
    "print(f\"Least popular category: {least_popular_category} with {least_popular_count} purchases.\")"
   ]
  },
  {
   "cell_type": "code",
   "execution_count": null,
   "id": "d0bb43c1-b90c-4bc4-84a8-a318b179f8da",
   "metadata": {},
   "outputs": [],
   "source": []
  },
  {
   "cell_type": "markdown",
   "id": "bdcd20e5-d540-4216-a2b9-5fc131e77aff",
   "metadata": {},
   "source": [
    "# Which category has the highest sales volume?"
   ]
  },
  {
   "cell_type": "code",
   "execution_count": 22,
   "id": "43b8a69c-5c80-497b-91b8-b022eab2f0ce",
   "metadata": {},
   "outputs": [],
   "source": [
    "category_sales = df.groupby('category')['quantity'].sum()"
   ]
  },
  {
   "cell_type": "code",
   "execution_count": 23,
   "id": "72fc1149-c1a0-4259-a79d-ffb1c1f97937",
   "metadata": {},
   "outputs": [],
   "source": [
    "highest_sales_category = category_sales.idxmax()"
   ]
  },
  {
   "cell_type": "code",
   "execution_count": 24,
   "id": "0abdaf98-c52b-4d0d-a570-713d08204e79",
   "metadata": {},
   "outputs": [
    {
     "name": "stdout",
     "output_type": "stream",
     "text": [
      "Category with the highest sales volume: Clothing with 103598 units sold.\n"
     ]
    }
   ],
   "source": [
    "highest_sales_volume = category_sales.max()\n",
    "print(f\"Category with the highest sales volume: {highest_sales_category} with {highest_sales_volume} units sold.\")"
   ]
  },
  {
   "cell_type": "code",
   "execution_count": null,
   "id": "9e0124d0-5555-42b6-9cc8-c4dbadd5fb09",
   "metadata": {},
   "outputs": [],
   "source": []
  },
  {
   "cell_type": "markdown",
   "id": "218e1d8a-b005-4896-8755-260a3115e9d6",
   "metadata": {},
   "source": [
    "# Add column name 'Total Profit' "
   ]
  },
  {
   "cell_type": "code",
   "execution_count": 39,
   "id": "7df238ce-ca08-4038-91cb-1a96602bee76",
   "metadata": {},
   "outputs": [
    {
     "name": "stdout",
     "output_type": "stream",
     "text": [
      "  invoice_no     invoice_date customer_id  gender  age  category  quantity  \\\n",
      "0    I138884  10/30/2016 9:58     C241288  Female   28  Clothing         5   \n",
      "1    I317333  10/30/2016 9:58     C111565    Male   21     Shoes         3   \n",
      "2    I127801  10/30/2016 9:58     C266599    Male   20  Clothing         1   \n",
      "3    I173702  10/30/2016 9:58     C988172  Female   66     Shoes         5   \n",
      "4    I337046  10/30/2016 9:59     C189076  Female   53     Books         4   \n",
      "\n",
      "   selling_price_per_unit  cost_price_per_unit payment_method region  \\\n",
      "0                 1500.40             1425.380    Credit Card  South   \n",
      "1                 1800.51             1620.459     Debit Card  South   \n",
      "2                  300.08              295.060           Cash   West   \n",
      "3                 3000.85             2900.765    Credit Card  South   \n",
      "4                   60.60               45.450           Cash  South   \n",
      "\n",
      "        state   shopping_mall  Total Sales  Total Profit  Total Costs  \n",
      "0    Kentucky          Kanyon      7502.00       375.100     7126.900  \n",
      "1    Kentucky  Viaport Outlet      5401.53       540.153     4861.377  \n",
      "2  California       Metrocity       300.08         5.020      295.060  \n",
      "3     Florida    Metropol AVM     15004.25       500.425    14503.825  \n",
      "4     Florida          Kanyon       242.40        60.600      181.800  \n"
     ]
    }
   ],
   "source": [
    "df['Total Profit'] = df['Total Sales'] - df['Total Costs']\n",
    "print(df.head())"
   ]
  },
  {
   "cell_type": "code",
   "execution_count": null,
   "id": "200ab76c-e405-4be9-acaa-6d8d08f86f19",
   "metadata": {},
   "outputs": [],
   "source": []
  },
  {
   "cell_type": "markdown",
   "id": "1d212e77-0ad8-4479-9d0c-6124e5ecb92d",
   "metadata": {},
   "source": [
    "# Display the top 10 invoices with the highest quantities sold?"
   ]
  },
  {
   "cell_type": "code",
   "execution_count": 29,
   "id": "5c2c5715-92a4-4ff5-b426-5ef408262077",
   "metadata": {},
   "outputs": [
    {
     "name": "stdout",
     "output_type": "stream",
     "text": [
      "    invoice_no      invoice_date customer_id  gender  age    category  \\\n",
      "100    I283443  10/30/2016 10:21     C189493    Male   43  Technology   \n",
      "109    I293215  10/30/2016 10:23     C166635    Male   18   Cosmetics   \n",
      "275    I282789  10/30/2016 11:02     C172185  Female   67   Cosmetics   \n",
      "305    I115679  10/30/2016 11:09     C266462    Male   27    Clothing   \n",
      "61     I207205  10/30/2016 10:12     C716161  Female   33    Clothing   \n",
      "129    I160221  10/30/2016 10:28     C319231    Male   25    Clothing   \n",
      "224    I353272  10/30/2016 10:50     C199311  Female   34    Clothing   \n",
      "201    I286193  10/30/2016 10:45     C322994    Male   37   Cosmetics   \n",
      "11     I139207  10/30/2016 10:00     C191708  Female   29       Books   \n",
      "145    I246375  10/30/2016 10:32     C236365  Female   67   Cosmetics   \n",
      "\n",
      "     quantity  selling_price_per_unit  cost_price_per_unit payment_method  \\\n",
      "100        15                 3150.00             2677.500    Credit Card   \n",
      "109        12                  162.64              130.112    Credit Card   \n",
      "275        12                   81.32               76.924           Cash   \n",
      "305        11                  300.08              285.060           Cash   \n",
      "61         10                  300.08              225.060     Debit Card   \n",
      "129        10                  900.24              675.180           Cash   \n",
      "224        10                  300.08              292.060    Credit Card   \n",
      "201         9                  121.98              118.485           Cash   \n",
      "11          8                   15.15               15.105    Credit Card   \n",
      "145         8                   81.32               56.924           Cash   \n",
      "\n",
      "      region     state     shopping_mall  Total Sales  Total Profit  \\\n",
      "100  Central  Illinois    Viaport Outlet     47250.00      7087.500   \n",
      "109  Central  Illinois      Istinye Park      1951.68       390.336   \n",
      "275     West     Idaho      Istinye Park       975.84        52.752   \n",
      "305  Central  Michigan            Kanyon      3300.88       165.220   \n",
      "61      East  New York            Kanyon      3000.80       750.200   \n",
      "129     West    Oregon  Mall of Istanbul      9002.40      2250.600   \n",
      "224     East      Ohio      Istinye Park      3000.80        80.200   \n",
      "201     West  Colorado      Istinye Park      1097.82        31.455   \n",
      "11      West     Idaho      Zorlu Center       121.20         0.360   \n",
      "145     West    Oregon            Kanyon       650.56       195.168   \n",
      "\n",
      "     Total Costs  \n",
      "100    40162.500  \n",
      "109     1561.344  \n",
      "275      923.088  \n",
      "305     3135.660  \n",
      "61      2250.600  \n",
      "129     6751.800  \n",
      "224     2920.600  \n",
      "201     1066.365  \n",
      "11       120.840  \n",
      "145      455.392  \n"
     ]
    }
   ],
   "source": [
    "top_10_invoices = df.nlargest(10, 'quantity')\n",
    "print(top_10_invoices)"
   ]
  },
  {
   "cell_type": "code",
   "execution_count": null,
   "id": "054d2884-5fe1-4eff-a90a-ffce53eee8c6",
   "metadata": {},
   "outputs": [],
   "source": []
  },
  {
   "cell_type": "markdown",
   "id": "22bf0569-d613-4800-99ba-9dde06d904a6",
   "metadata": {},
   "source": [
    "# Which payment method is most commonly used?"
   ]
  },
  {
   "cell_type": "code",
   "execution_count": 30,
   "id": "2435d0e2-d39b-47fd-a14b-ce63f4be4a88",
   "metadata": {},
   "outputs": [],
   "source": [
    "most_common_payment = df['payment_method'].value_counts().idxmax()"
   ]
  },
  {
   "cell_type": "code",
   "execution_count": 31,
   "id": "44ec2c38-c39f-4a3f-9e77-7fe9fe137baf",
   "metadata": {},
   "outputs": [
    {
     "name": "stdout",
     "output_type": "stream",
     "text": [
      "Most commonly used payment method: Cash (44447 times)\n"
     ]
    }
   ],
   "source": [
    "payment_count = df['payment_method'].value_counts().max()\n",
    "\n",
    "print(f\"Most commonly used payment method: {most_common_payment} ({payment_count} times)\")"
   ]
  },
  {
   "cell_type": "code",
   "execution_count": null,
   "id": "ded4dac7-075f-4e6f-886d-01d121f6a7a9",
   "metadata": {},
   "outputs": [],
   "source": []
  },
  {
   "cell_type": "markdown",
   "id": "b8c29abe-2fc0-4efa-8d68-d077b13bee3a",
   "metadata": {},
   "source": [
    "# Total Sales with respect to region?"
   ]
  },
  {
   "cell_type": "code",
   "execution_count": 37,
   "id": "caf3d1f0-bea7-44a7-a087-037f3e56e40a",
   "metadata": {},
   "outputs": [
    {
     "name": "stdout",
     "output_type": "stream",
     "text": [
      "    region  Total Sales\n",
      "0  Central  58803471.74\n",
      "1     East  72280660.57\n",
      "2    South  40655491.64\n",
      "3     West  79825624.03\n"
     ]
    }
   ],
   "source": [
    "sales_by_region = df.groupby('region')['Total Sales'].sum().reset_index()\n",
    "print(sales_by_region)"
   ]
  },
  {
   "cell_type": "code",
   "execution_count": null,
   "id": "08dfb4e5-bf84-4321-989a-415e14787f66",
   "metadata": {},
   "outputs": [],
   "source": []
  },
  {
   "cell_type": "markdown",
   "id": "486d098d-4da1-4d9f-a7af-30a8bc1dfa42",
   "metadata": {},
   "source": [
    "# Sort Malls with average sales higher to lower?"
   ]
  },
  {
   "cell_type": "code",
   "execution_count": 35,
   "id": "a46dfee1-d65b-417a-ac7d-94ad48539e69",
   "metadata": {},
   "outputs": [],
   "source": [
    "malls_avg_sales = df.groupby('shopping_mall')['Total Sales'].mean().reset_index().sort_values(by='Total Sales', ascending=False)"
   ]
  },
  {
   "cell_type": "code",
   "execution_count": 36,
   "id": "3d0f4fcc-7403-4c95-a5bb-479b8392bff0",
   "metadata": {},
   "outputs": [
    {
     "name": "stdout",
     "output_type": "stream",
     "text": [
      "      shopping_mall  Total Sales\n",
      "6      Zorlu Center  2573.248351\n",
      "1            Kanyon  2550.618396\n",
      "2  Mall of Istanbul  2543.276766\n",
      "5    Viaport Outlet  2523.835118\n",
      "0      Istinye Park  2523.186677\n",
      "4      Metropol AVM  2497.777108\n",
      "3         Metrocity  2485.030133\n"
     ]
    }
   ],
   "source": [
    "print(malls_avg_sales)"
   ]
  },
  {
   "cell_type": "code",
   "execution_count": null,
   "id": "271f129a-1686-4662-86ca-d6f9a0b40b9f",
   "metadata": {},
   "outputs": [],
   "source": []
  },
  {
   "cell_type": "markdown",
   "id": "22ec48e0-95aa-4ed2-acdd-226931d7a18b",
   "metadata": {},
   "source": [
    "#  Sort categories with the highest profit margins display in bar plot?"
   ]
  },
  {
   "cell_type": "code",
   "execution_count": 50,
   "id": "6d3c425d-fc22-48cb-9614-5b6f6869ebec",
   "metadata": {},
   "outputs": [
    {
     "data": {
      "image/png": "[encoded data removed]",
      "text/plain": [
       "<Figure size 1500x800 with 1 Axes>"
      ]
     },
     "metadata": {},
     "output_type": "display_data"
    }
   ],
   "source": [
    "df['Profit Margin'] = (df['Total Profit'] / df['Total Sales']) * 100\n",
    "\n",
    "# Group by category and calculate the average profit margin\n",
    "category_profit_margins = df.groupby('category')['Profit Margin'].mean().reset_index()\n",
    "\n",
    "# Sort categories by highest profit margins\n",
    "category_profit_margins = category_profit_margins.sort_values(by='Profit Margin', ascending=False)\n",
    "\n",
    "# Plot the bar chart\n",
    "plt.figure(figsize=(15, 8))\n",
    "sns.barplot(y=category_profit_margins['Profit Margin'], x=category_profit_margins['category'])\n",
    "plt.ylabel(\"Profit Margin (%)\")\n",
    "plt.xlabel(\"Category\")\n",
    "plt.title(\"Categories Sorted by Profit Margins\")\n",
    "plt.show()"
   ]
  },
  {
   "cell_type": "code",
   "execution_count": null,
   "id": "cdada75a-8013-4220-8c8a-e806b294ddf9",
   "metadata": {},
   "outputs": [],
   "source": []
  },
  {
   "cell_type": "markdown",
   "id": "ad4ebf44-c619-4ec2-b7f5-4cc2a06e4044",
   "metadata": {},
   "source": [
    "# What is the total number of transactions per region for each payment method?"
   ]
  },
  {
   "cell_type": "code",
   "execution_count": 51,
   "id": "3a49fdd0-3d87-4ab3-9d8d-f5cfe790d101",
   "metadata": {},
   "outputs": [
    {
     "name": "stdout",
     "output_type": "stream",
     "text": [
      "     region payment_method  Total Transactions\n",
      "0   Central           Cash               10319\n",
      "1   Central    Credit Card                8140\n",
      "2   Central     Debit Card                4640\n",
      "3      East           Cash               12738\n",
      "4      East    Credit Card                9817\n",
      "5      East     Debit Card                5751\n",
      "6     South           Cash                7227\n",
      "7     South    Credit Card                5698\n",
      "8     South     Debit Card                3284\n",
      "9      West           Cash               14163\n",
      "10     West    Credit Card               11276\n",
      "11     West     Debit Card                6404\n"
     ]
    }
   ],
   "source": [
    "transactions_per_region_payment = df.groupby(['region', 'payment_method']).size().reset_index(name='Total Transactions')\n",
    "print(transactions_per_region_payment)"
   ]
  },
  {
   "cell_type": "code",
   "execution_count": null,
   "id": "b52b689d-c97e-480c-82e9-898806cabbf2",
   "metadata": {},
   "outputs": [],
   "source": []
  },
  {
   "cell_type": "markdown",
   "id": "185e53e1-9274-4c0c-91c1-ce293c837b64",
   "metadata": {},
   "source": [
    "# How do sales in different categories compare between males and females?"
   ]
  },
  {
   "cell_type": "code",
   "execution_count": 53,
   "id": "7b72999f-2811-4b14-8db1-c7c6052a0b68",
   "metadata": {},
   "outputs": [],
   "source": [
    "category_gender_sales = df.groupby(['category', 'gender'])['Total Sales'].sum().reset_index()\n"
   ]
  },
  {
   "cell_type": "code",
   "execution_count": 55,
   "id": "78620ff4-27f2-46e3-9d95-5fbf218e84d4",
   "metadata": {},
   "outputs": [
    {
     "name": "stdout",
     "output_type": "stream",
     "text": [
      "           category  gender  Total Sales\n",
      "0             Books  Female    489420.75\n",
      "1             Books    Male    345238.20\n",
      "2          Clothing  Female  68260097.84\n",
      "3          Clothing    Male  45754397.92\n",
      "4         Cosmetics  Female   4068073.66\n",
      "5         Cosmetics    Male   2728611.28\n",
      "6   Food & Beverage  Female    505322.60\n",
      "7   Food & Beverage    Male    344233.37\n",
      "8             Shoes  Female  39425167.30\n",
      "9             Shoes    Male  27128284.17\n",
      "10         Souvenir  Female    382867.20\n",
      "11         Souvenir    Male    252957.45\n",
      "12       Technology  Female  34669950.00\n",
      "13       Technology    Male  23230200.00\n",
      "14             Toys  Female   2416046.08\n",
      "15             Toys    Male   1564380.16\n"
     ]
    }
   ],
   "source": [
    "print(category_gender_sales)"
   ]
  },
  {
   "cell_type": "code",
   "execution_count": 54,
   "id": "57d0a254-7127-4d0a-b59e-a8c7f33c9598",
   "metadata": {},
   "outputs": [
    {
     "data": {
      "image/png": "[encoded data removed]",
      "text/plain": [
       "<Figure size 1200x600 with 1 Axes>"
      ]
     },
     "metadata": {},
     "output_type": "display_data"
    }
   ],
   "source": [
    "plt.figure(figsize=(12, 6))\n",
    "sns.barplot(x='category', y='Total Sales', hue='gender', data=category_gender_sales, palette='coolwarm')\n",
    "\n",
    "# Formatting\n",
    "plt.xlabel(\"Category\")\n",
    "plt.ylabel(\"Total Sales\")\n",
    "plt.title(\"Sales Comparison by Category and Gender\")\n",
    "plt.xticks(rotation=45)\n",
    "plt.legend(title=\"Gender\")\n",
    "\n",
    "# Show plot\n",
    "plt.show()"
   ]
  }
 ],
 "metadata": {
  "kernelspec": {
   "display_name": "Python 3 (ipykernel)",
   "language": "python",
   "name": "python3"
  },
  "language_info": {
   "codemirror_mode": {
    "name": "ipython",
    "version": 3
   },
   "file_extension": ".py",
   "mimetype": "text/x-python",
   "name": "python",
   "nbconvert_exporter": "python",
   "pygments_lexer": "ipython3",
   "version": "3.12.7"
  }
 },
 "nbformat": 4,
 "nbformat_minor": 5
}
